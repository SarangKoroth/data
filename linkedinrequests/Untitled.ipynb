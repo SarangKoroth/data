{
 "cells": [
  {
   "cell_type": "code",
   "execution_count": 1,
   "metadata": {},
   "outputs": [],
   "source": [
    "from selenium import webdriver\n",
    "from selenium.webdriver.common.keys import Keys\n",
    "from selenium.webdriver.chrome.options import Options\n",
    "from bs4 import BeautifulSoup\n",
    "import requests\n",
    "import time\n",
    "import pandas as pd\n",
    "import pymongo\n",
    "import urllib.parse\n",
    "import dns\n",
    "from mongoengine import *\n",
    "from mongoengine.context_managers import switch_collection\n",
    "import random\n",
    "import sys"
   ]
  },
  {
   "cell_type": "code",
   "execution_count": 3,
   "metadata": {},
   "outputs": [],
   "source": [
    "PATH = r\"C:\\Users\\BILAL\\Projects\\LinkedInScraper\\chromedriver.exe\"\n",
    "driver = webdriver.Chrome(PATH)"
   ]
  },
  {
   "cell_type": "code",
   "execution_count": 4,
   "metadata": {},
   "outputs": [],
   "source": [
    "sleeps = [2,3,4]\n",
    "driver.get(\"https://www.linkedin.com/login\")\n",
    "driver.find_element_by_id(\"username\").send_keys('donnybegins@gmail.com')\n",
    "password = driver.find_element_by_id(\"password\")\n",
    "time.sleep(random.choice(sleeps))\n",
    "password.send_keys('myaccount')\n",
    "password.send_keys(Keys.RETURN)"
   ]
  },
  {
   "cell_type": "code",
   "execution_count": 44,
   "metadata": {},
   "outputs": [],
   "source": [
    "def chatWindow():\n",
    "        try:\n",
    "            chatOpen = driver.find_element_by_xpath(\"//*[@id='msg-overlay']/div[1]/div\")\n",
    "            personal_chatOpen = driver.find_element_by_xpath(\"//div[@id='msg-overlay__emoji-hoverable-outlet']\")\n",
    "\n",
    "            if chatOpen:\n",
    "                chatClose = driver.find_element_by_xpath(\"(//*[@id='msg-overlay']/div[1]/header/section[1])\")\n",
    "                chatClose.click()\n",
    "                print(\"Chatbox Closed...\")\n",
    "                return True\n",
    "            if personal_chatOpen:\n",
    "                close_personal_chat = driver.find_element_by_xpath(\"//button[@data-control-name='overlay.close_conversation_window']\")\n",
    "                close_personal_chat.click()\n",
    "                print(\"Chat closed\")\n",
    "                return True\n",
    "                \n",
    "        except:\n",
    "            print(\"Chatbox is already closed\")\n",
    "            return True"
   ]
  },
  {
   "cell_type": "code",
   "execution_count": 6,
   "metadata": {},
   "outputs": [],
   "source": [
    "feed = driver.current_url"
   ]
  },
  {
   "cell_type": "code",
   "execution_count": 7,
   "metadata": {},
   "outputs": [
    {
     "name": "stdout",
     "output_type": "stream",
     "text": [
      "Chatbox Closed...\n",
      "Entered keyword\n"
     ]
    }
   ],
   "source": [
    "chatWindow()\n",
    "search = driver.find_element_by_class_name(\"search-global-typeahead__input \")\n",
    "search.send_keys('Java')\n",
    "search.send_keys(Keys.RETURN)\n",
    "print(\"Entered keyword\")\n",
    "time.sleep(10)"
   ]
  },
  {
   "cell_type": "code",
   "execution_count": 8,
   "metadata": {},
   "outputs": [
    {
     "name": "stdout",
     "output_type": "stream",
     "text": [
      "<selenium.webdriver.remote.webelement.WebElement (session=\"77e31addc1512a2991f22d800feed499\", element=\"26a15057-2474-4909-b2fe-de5f288b4bd8\")>\n"
     ]
    }
   ],
   "source": [
    "people = driver.find_element_by_xpath(\"//button[@aria-label='People']\")\n",
    "people.click()\n",
    "time.sleep(random.choice(sleeps))\n",
    "#selecting location(India)\n",
    "time.sleep(10)\n",
    "container = driver.find_element_by_xpath(\"//button[@aria-label='Locations filter. Clicking this button displays all Locations filter options.']\")\n",
    "container.click()\n",
    "time.sleep(random.choice(sleeps))\n",
    "\n",
    "enter_location = driver.find_element_by_xpath(\"//input[@placeholder='Add a location']\")\n",
    "# enter_location\n",
    "enter_location.send_keys('India')\n",
    "time.sleep(5)\n",
    "\n",
    "find_location = driver.find_element_by_xpath(\"//div[@role='listbox']\")\n",
    "print(find_location)\n",
    "select_location = find_location.find_element_by_xpath(\"//div[@role='option']\")\n",
    "select_location.click()\n",
    "\n",
    "select_location = driver.find_elements_by_xpath(\"//div[@class='artdeco-hoverable-content__shell']//button[@aria-label='Apply selected filter and show results']\")\n",
    "select_location[1].click()"
   ]
  },
  {
   "cell_type": "code",
   "execution_count": 9,
   "metadata": {},
   "outputs": [
    {
     "data": {
      "text/plain": [
       "'https://www.linkedin.com/search/results/people/?geoUrn=%5B%22102713980%22%5D&keywords=Java&origin=FACETED_SEARCH'"
      ]
     },
     "execution_count": 9,
     "metadata": {},
     "output_type": "execute_result"
    }
   ],
   "source": [
    "url = driver.current_url\n",
    "pagination = url\n",
    "pagination"
   ]
  },
  {
   "cell_type": "code",
   "execution_count": null,
   "metadata": {},
   "outputs": [],
   "source": [
    "pagination = f\"{pagination}&page={page}\"\n",
    "print(\"Pagination\", pagination)\n",
    "driver.get(pagination)\n",
    "chatWindow()"
   ]
  },
  {
   "cell_type": "code",
   "execution_count": 45,
   "metadata": {},
   "outputs": [
    {
     "name": "stdout",
     "output_type": "stream",
     "text": [
      "Chatbox is already closed\n"
     ]
    },
    {
     "data": {
      "text/plain": [
       "True"
      ]
     },
     "execution_count": 45,
     "metadata": {},
     "output_type": "execute_result"
    }
   ],
   "source": [
    "chatWindow()"
   ]
  },
  {
   "cell_type": "code",
   "execution_count": 46,
   "metadata": {},
   "outputs": [
    {
     "data": {
      "text/plain": [
       "<selenium.webdriver.remote.webelement.WebElement (session=\"77e31addc1512a2991f22d800feed499\", element=\"012c6554-0ac7-4df2-b958-62f5550007a2\")>"
      ]
     },
     "execution_count": 46,
     "metadata": {},
     "output_type": "execute_result"
    }
   ],
   "source": [
    "close_pchat = driver.find_element_by_xpath(\"//button[@data-control-name='overlay.close_conversation_window']\")\n",
    "close_pchat"
   ]
  },
  {
   "cell_type": "code",
   "execution_count": 47,
   "metadata": {},
   "outputs": [],
   "source": [
    "close_pchat.click()"
   ]
  },
  {
   "cell_type": "code",
   "execution_count": 13,
   "metadata": {},
   "outputs": [],
   "source": [
    "chatClose = driver.find_element_by_xpath(\"(//*[@id='msg-overlay']/div[1]/header/section[1])\")\n",
    "chatClose.click()"
   ]
  },
  {
   "cell_type": "code",
   "execution_count": 22,
   "metadata": {},
   "outputs": [],
   "source": [
    "length = driver.execute_script(\"return document.documentElement.scrollHeight\")\n",
    "for i in range(100, length, 150):\n",
    "        driver.execute_script(\"window.scrollTo(0, \" + str(i) + \")\")\n",
    "        time.sleep(2)"
   ]
  },
  {
   "cell_type": "code",
   "execution_count": 24,
   "metadata": {},
   "outputs": [],
   "source": [
    "driver.execute_script(\"window.scrollTo(\"+str(length)+\",0)\")"
   ]
  },
  {
   "cell_type": "code",
   "execution_count": 26,
   "metadata": {},
   "outputs": [
    {
     "data": {
      "text/plain": [
       "10"
      ]
     },
     "execution_count": 26,
     "metadata": {},
     "output_type": "execute_result"
    }
   ],
   "source": [
    "result_list = driver.find_elements_by_xpath(\"//li[@class='reusable-search__result-container ']\")\n",
    "len(result_list)"
   ]
  },
  {
   "cell_type": "code",
   "execution_count": 28,
   "metadata": {},
   "outputs": [],
   "source": [
    "soup = BeautifulSoup(driver.page_source, 'html.parser')"
   ]
  },
  {
   "cell_type": "code",
   "execution_count": 32,
   "metadata": {},
   "outputs": [
    {
     "data": {
      "text/plain": [
       "'https://www.linkedin.com/in/kalyani-zanwar'"
      ]
     },
     "execution_count": 32,
     "metadata": {},
     "output_type": "execute_result"
    }
   ],
   "source": [
    "container = soup.find(\"div\", attrs={\"role\": \"main\"})\n",
    "profile = container.find(\"li\")\n",
    "profile_link = profile.find('a')['href']"
   ]
  },
  {
   "cell_type": "code",
   "execution_count": 39,
   "metadata": {},
   "outputs": [],
   "source": [
    "profiles = container.find_all(\"li\")"
   ]
  },
  {
   "cell_type": "code",
   "execution_count": 37,
   "metadata": {
    "scrolled": true
   },
   "outputs": [
    {
     "data": {
      "text/plain": [
       "'https://www.linkedin.com/in/kalyani-zanwar'"
      ]
     },
     "execution_count": 37,
     "metadata": {},
     "output_type": "execute_result"
    }
   ],
   "source": [
    "profiles = container.find_all(\"li\")\n",
    "profiles[0].find('a')['href']"
   ]
  },
  {
   "cell_type": "code",
   "execution_count": 40,
   "metadata": {},
   "outputs": [
    {
     "name": "stdout",
     "output_type": "stream",
     "text": [
      "<selenium.webdriver.remote.webelement.WebElement (session=\"77e31addc1512a2991f22d800feed499\", element=\"b77d4b1a-9c15-440b-bed5-37f6449efbff\")>\n",
      "Clicking on Connect\n",
      "Sending request...\n",
      "Request Sent\n"
     ]
    }
   ],
   "source": [
    "for enu, result in enumerate(result_list):\n",
    "#     print(profiles[enu].find('a')['href'])\n",
    "    print(result)\n",
    "    connect = result.find_element_by_xpath(\"//button[@class='artdeco-button artdeco-button--2 artdeco-button--secondary ember-view']\")\n",
    "    connect.click()\n",
    "    print(\"Clicking on Connect\")\n",
    "    time.sleep(random.choice(sleeps))\n",
    "    print(\"Sending request...\")\n",
    "\n",
    "    #adding Note\n",
    "    add_note = driver.find_element_by_xpath(\"//button[@aria-label='Add a note']\")\n",
    "    add_note.click()\n",
    "    time.sleep(random.choice(sleeps))\n",
    "    add_note = driver.find_element_by_xpath(\"//textarea[@name='message']\")\n",
    "    add_note.send_keys(\" \")\n",
    "    time.sleep(random.choice(sleeps))\n",
    "\n",
    "    #sending note\n",
    "    send_req = driver.find_element_by_xpath(\"//button[@aria-label='Send now']\")\n",
    "    send_req.click()\n",
    "    print(\"Request Sent\")\n",
    "    profile_link = profiles[enu].find('a')['href']\n",
    "    driver.get(profile_link)\n",
    "    break"
   ]
  },
  {
   "cell_type": "code",
   "execution_count": 41,
   "metadata": {},
   "outputs": [
    {
     "data": {
      "text/plain": [
       "'https://www.linkedin.com/in/kalyani-zanwar/detail/contact-info'"
      ]
     },
     "execution_count": 41,
     "metadata": {},
     "output_type": "execute_result"
    }
   ],
   "source": [
    "link = f\"{driver.current_url}detail/contact-info\"\n",
    "link"
   ]
  },
  {
   "cell_type": "code",
   "execution_count": 54,
   "metadata": {},
   "outputs": [],
   "source": [
    "def get_contact_info():\n",
    "    \n",
    "    sites = []\n",
    "    phone = ''\n",
    "    email = ''\n",
    "    ims = []\n",
    "    detail = []\n",
    "    extra_links = []\n",
    "    #getting to contact-info page\n",
    "    driver.get(link)\n",
    "    time.sleep(2)\n",
    "    soup = BeautifulSoup(driver.page_source, features=\"html.parser\")\n",
    "    time.sleep(random.choice(sleeps))\n",
    "    \n",
    "    #getting name\n",
    "    names = soup.find(\"div\", {\"class\": \"artdeco-modal__header ember-view\"})\n",
    "    name = names.find(\"h1\").text.strip()\n",
    "    \n",
    "    #contact sections\n",
    "    container = soup.find(\"div\", attrs={\"class\": \"pv-profile-section__section-info section-info\"})\n",
    "    sections = container.find_all(\"section\")\n",
    "    \n",
    "    for section in sections:\n",
    "                text = section.find('header').text.strip()\n",
    "                print(text)\n",
    "                if \"Profile\" in text:\n",
    "                    linkedin_url = section.find('a')['href']\n",
    "                    print(linkedin_url)\n",
    "                    continue\n",
    "                if \"Website\" in text:\n",
    "                    websites = section.find_all('li')\n",
    "\n",
    "                    for website in websites:\n",
    "                        print(website.find('a')['href'])\n",
    "                        sites.append(website.find('a')['href'])\n",
    "                    continue\n",
    "                if text == \"Phone\":\n",
    "                    phone = section.find(\"span\").text\n",
    "                    print(phone)\n",
    "                    continue\n",
    "                if text == 'Email':\n",
    "                    email = section.find('a')['href']\n",
    "                    email = email.split(':')[1:]\n",
    "                    email = ''.join(email)\n",
    "                    email = email.strip()\n",
    "                    print(email)\n",
    "                    continue\n",
    "                if text == \"IM\":\n",
    "                    im = section.find_all(\"li\")\n",
    "                    for i in im:\n",
    "                        spans = i.find_all(\"span\")\n",
    "\n",
    "                        for span in spans:\n",
    "                            detail.append(span.text.strip())\n",
    "                        ims = '-'.join(detail)\n",
    "#                         print(ims)\n",
    "                    continue\n",
    "                if \"Connected\" in text:\n",
    "                    continue\n",
    "                extra_link = section.find('a')\n",
    "                if extra_link is not None:\n",
    "                    extra_link = extra_link['href']\n",
    "#                     print(extra_link)\n",
    "                    extra_links.append(extra_link)\n",
    "\n",
    "    if len(sites) == 0:\n",
    "        sites = ''\n",
    "    if len(ims) == 0:\n",
    "        ims = ''\n",
    "    if extra_links == 0:\n",
    "        extra_links = ''\n",
    "    driver.get(link)\n",
    "    \n",
    "    return name, linkedin_url, email, phone, sites, ims, extra_links"
   ]
  },
  {
   "cell_type": "code",
   "execution_count": 52,
   "metadata": {},
   "outputs": [
    {
     "name": "stdout",
     "output_type": "stream",
     "text": [
      "Kalyani’s Profile\n",
      "https://www.linkedin.com/in/kalyani-zanwar\n"
     ]
    }
   ],
   "source": [
    "name, linkedin_url, email, phone, sites, ims, extra_links = get_contact_info()"
   ]
  },
  {
   "cell_type": "code",
   "execution_count": 182,
   "metadata": {},
   "outputs": [],
   "source": [
    "def get_experience_info():\n",
    "    length = driver.execute_script(\"return document.documentElement.scrollHeight\")\n",
    "#     for i in range(100, length, 200):\n",
    "#         driver.execute_script(\"window.scrollTo(0, \" + str(i) + \")\")\n",
    "#         time.sleep(2)\n",
    "    soup = BeautifulSoup(driver.page_source, features=\"html.parser\")\n",
    "    time.sleep(random.choice(sleeps))\n",
    "    exp = soup.find('section', attrs={\"id\": \"experience-section\"})\n",
    "#     print(exp)\n",
    "    if exp != None:\n",
    "        exp = exp.find('ul').find_all('li')\n",
    "#         print(exp)\n",
    "        experience = []\n",
    "        for ex in exp:\n",
    "#             print('exppp')\n",
    "\n",
    "            \n",
    "#             print(\"first designation\",designation)\n",
    "#             if designation == -1:\n",
    "#                 continue\n",
    "#             if 'Company Name' in designation:\n",
    "#                 desig = ex.find('ul')\n",
    "#                 designation = desig.find('h3').text.strip()\n",
    "#                 designation = designation.replace('\\n', ' ')\n",
    "#                 designation = designation.split(' ')[1:]\n",
    "#                 designation = ' '.join(designation)\n",
    "# #                 print(designation)\n",
    "                \n",
    "#                 company = ex.find('h3').text.strip()\n",
    "#                 company = company.replace('\\n', ' ')\n",
    "#                 company = company.split(' ')[2:]\n",
    "#                 company = ' '.join(company)\n",
    "# #                 print(company)\n",
    "                \n",
    "#             if designation == None:\n",
    "#                 designation = ''\n",
    "\n",
    "\n",
    "\n",
    "\n",
    "            company = ex.find('p', {\"class\": \"pv-entity__secondary-title t-14 t-black t-normal\"})\n",
    "            if company == -1:\n",
    "                continue\n",
    "            company = ex.find('p', {\"class\": \"pv-entity__secondary-title t-14 t-black t-normal\"})\n",
    "#             print(company)\n",
    "            if company == None:\n",
    "                company = ''\n",
    "            else:\n",
    "                company = company.text.strip()\n",
    "            if 'time' in company:\n",
    "                company = company.split()[:-1]\n",
    "                company = ' '.join(company)\n",
    "            if '\\n' in company:\n",
    "                company = company.replace('\\n', '')\n",
    "                company = company.split()[0]\n",
    "                \n",
    "#             print(company)\n",
    "            duration = ex.find('h4')\n",
    "#             print(duration)\n",
    "            if duration == None:\n",
    "                duration = ''\n",
    "                print(\"NONE\")\n",
    "            else:\n",
    "                duration = duration.text.strip()\n",
    "                print(duration)\n",
    "                duration = duration.replace('\\n', ' ')\n",
    "                print(duration)\n",
    "                duration = duration.split(' ')[2:]\n",
    "                print(duration)\n",
    "                duration = ' '.join(duration)\n",
    "                print(duration)\n",
    "                print(\"##############\")\n",
    "            \n",
    "            \n",
    "            designation = ex.find('h3')\n",
    "            \n",
    "            if designation == None:\n",
    "                designation = ''\n",
    "            else:\n",
    "                designation = designation.text.strip()\n",
    "                designation = designation.replace('\\n', ' ')\n",
    "            \n",
    "#             print(\"first designation\",designation)\n",
    "            if designation == -1:\n",
    "                continue\n",
    "            if 'Company Name' in designation:\n",
    "                desig = ex.find('ul')\n",
    "                designation = desig.find('h3').text.strip()\n",
    "                designation = designation.replace('\\n', ' ')\n",
    "                designation = designation.split(' ')[1:]\n",
    "                designation = ' '.join(designation)\n",
    "#                 print(designation)\n",
    "                \n",
    "                company = ex.find('h3').text.strip()\n",
    "                company = company.replace('\\n', ' ')\n",
    "                company = company.split(' ')[2:]\n",
    "                company = ' '.join(company)\n",
    "#                 print(company)\n",
    "#                 if duration == None:\n",
    "#                     duration = ''\n",
    "#                     print(\"NONE\")\n",
    "#                 else:\n",
    "#                     duration = duration.text.strip()\n",
    "#                     print(duration)\n",
    "#                     duration = duration.replace('\\n', ' ')\n",
    "#                     print(duration)\n",
    "#                     duration = duration.split(' ')[2:]\n",
    "#                     print(duration)\n",
    "#                     duration = ' '.join(duration)\n",
    "#                     print(duration)\n",
    "\n",
    "\n",
    "            experience.append({\"Company\": company, \"Designation\": designation, \"Duration\": duration})\n",
    "\n",
    "    else:\n",
    "        experience = \"No details found\"\n",
    "\n",
    "    return experience"
   ]
  },
  {
   "cell_type": "code",
   "execution_count": 183,
   "metadata": {},
   "outputs": [
    {
     "name": "stdout",
     "output_type": "stream",
     "text": [
      "Total Duration\n",
      "2 yrs 3 mos\n",
      "Total Duration 2 yrs 3 mos\n",
      "['2', 'yrs', '3', 'mos']\n",
      "2 yrs 3 mos\n",
      "##############\n",
      "Full-time\n",
      "Full-time\n",
      "[]\n",
      "\n",
      "##############\n",
      "Internship\n",
      "Internship\n",
      "[]\n",
      "\n",
      "##############\n"
     ]
    }
   ],
   "source": [
    "experience = get_experience_info()\n"
   ]
  },
  {
   "cell_type": "code",
   "execution_count": 179,
   "metadata": {},
   "outputs": [
    {
     "name": "stdout",
     "output_type": "stream",
     "text": [
      "[{'Company': '18North Systems Private Limited', 'Designation': 'Software Developer', 'Duration': '2 yrs 3 mos'}, {'Company': '', 'Designation': 'Title Software Developer', 'Duration': ''}, {'Company': '', 'Designation': 'Title Software Developer', 'Duration': ''}]\n"
     ]
    }
   ],
   "source": [
    "print(experience)"
   ]
  },
  {
   "cell_type": "code",
   "execution_count": 150,
   "metadata": {},
   "outputs": [
    {
     "name": "stdout",
     "output_type": "stream",
     "text": [
      "Software Developer\n",
      "18North Systems Private Limited\n",
      "\n",
      "222 2 yrs 3 mos\n",
      "\n",
      "222 \n",
      "\n",
      "222 \n"
     ]
    }
   ],
   "source": [
    "get_experience_info()"
   ]
  },
  {
   "cell_type": "code",
   "execution_count": 66,
   "metadata": {},
   "outputs": [],
   "source": [
    "experience = get_experience_info()"
   ]
  },
  {
   "cell_type": "code",
   "execution_count": 67,
   "metadata": {},
   "outputs": [
    {
     "data": {
      "text/plain": [
       "[{'Company': '',\n",
       "  'Designation': 'Company Name\\n18North Systems Private Limited',\n",
       "  'Duration': 'yrs3mos'},\n",
       " {'Company': '', 'Designation': 'Title\\nSoftware Developer', 'Duration': ''},\n",
       " {'Company': '', 'Designation': 'Title\\nSoftware Developer', 'Duration': ''}]"
      ]
     },
     "execution_count": 67,
     "metadata": {},
     "output_type": "execute_result"
    }
   ],
   "source": [
    "experience"
   ]
  },
  {
   "cell_type": "code",
   "execution_count": null,
   "metadata": {},
   "outputs": [],
   "source": []
  },
  {
   "cell_type": "code",
   "execution_count": null,
   "metadata": {},
   "outputs": [],
   "source": []
  }
 ],
 "metadata": {
  "kernelspec": {
   "display_name": "Python [conda env:scraping_env]",
   "language": "python",
   "name": "conda-env-scraping_env-py"
  },
  "language_info": {
   "codemirror_mode": {
    "name": "ipython",
    "version": 3
   },
   "file_extension": ".py",
   "mimetype": "text/x-python",
   "name": "python",
   "nbconvert_exporter": "python",
   "pygments_lexer": "ipython3",
   "version": "3.8.5"
  }
 },
 "nbformat": 4,
 "nbformat_minor": 4
}
