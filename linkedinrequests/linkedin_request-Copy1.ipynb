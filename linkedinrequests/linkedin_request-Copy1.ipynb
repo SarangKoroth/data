{
 "cells": [
  {
   "cell_type": "code",
   "execution_count": 2,
   "metadata": {},
   "outputs": [],
   "source": [
    "from selenium import webdriver\n",
    "from selenium.webdriver.common.keys import Keys\n",
    "from selenium.webdriver.chrome.options import Options\n",
    "from bs4 import BeautifulSoup\n",
    "import requests\n",
    "import sys\n",
    "import time\n",
    "import random"
   ]
  },
  {
   "cell_type": "code",
   "execution_count": 68,
   "metadata": {},
   "outputs": [],
   "source": [
    "PATH = r\"C:\\Users\\BILAL\\Projects\\LinkedInScraper\\chromedriver.exe\"\n",
    "driver = webdriver.Chrome(PATH)\n",
    "chrome_options = Options()\n",
    "sleeps = [2,3,4]\n",
    "\n",
    "#sign in into linked account\n",
    "driver.get(\"https://www.linkedin.com/login\")\n",
    "driver.find_element_by_id(\"username\").send_keys('donnybegins@gmail.com')\n",
    "password = driver.find_element_by_id(\"password\")\n",
    "time.sleep(random.choice(sleeps))\n",
    "password.send_keys('myaccount')\n",
    "password.send_keys(Keys.RETURN)\n",
    "\n",
    "search = driver.find_element_by_class_name(\"search-global-typeahead__input \")\n",
    "search.send_keys(\"MERN\")\n",
    "search.send_keys(Keys.RETURN)\n",
    "time.sleep(10)\n",
    "#clicking on people's tab\n",
    "people = driver.find_element_by_xpath(\"//button[@aria-label='People']\")\n",
    "people.click()\n",
    "\n",
    "length = driver.execute_script(\"return document.documentElement.scrollHeight\")\n",
    "for i in range(100, length, 100):\n",
    "    driver.execute_script(\"window.scrollTo(0, \" + str(i) + \")\")\n",
    "    time.sleep(2)\n",
    "\n",
    "#selecting location(India)\n",
    "container = driver.find_element_by_xpath(\"//button[@aria-label='Locations filter. Clicking this button displays all Locations filter options.']\")\n",
    "container.click()\n",
    "country = driver.find_element_by_xpath(\"//label[@aria-label='Filter by India']\")\n",
    "country.click()\n",
    "\n",
    "location = driver.find_elements_by_xpath(\"//div[@class='artdeco-hoverable-content__shell']//button[@aria-label='Apply selected filter and show results']\")\n",
    "location[1].click()\n",
    "\n"
   ]
  },
  {
   "cell_type": "code",
   "execution_count": 46,
   "metadata": {},
   "outputs": [],
   "source": [
    "import traceback"
   ]
  },
  {
   "cell_type": "code",
   "execution_count": 69,
   "metadata": {},
   "outputs": [
    {
     "data": {
      "text/plain": [
       "'https://www.linkedin.com/search/results/people/?geoUrn=%5B%22102713980%22%5D&keywords=MERN&origin=FACETED_SEARCH'"
      ]
     },
     "execution_count": 69,
     "metadata": {},
     "output_type": "execute_result"
    }
   ],
   "source": [
    "url = driver.current_url\n",
    "url"
   ]
  },
  {
   "cell_type": "code",
   "execution_count": 76,
   "metadata": {},
   "outputs": [],
   "source": [
    "def send_connection_requests():\n",
    "    \n",
    "#     User_id = sys.argv[1]\n",
    "#     Email_id = sys.argv[2]\n",
    "#     Password = sys.argv[3]\n",
    "#     keyword = sys.argv[4]\n",
    "#     limit = sys.argv[5]\n",
    "    limit = 15\n",
    "    sleeps = [2,3,4]\n",
    "    \n",
    "    #setting up chrome driver\n",
    "    \n",
    "    \n",
    "#     def otp():\n",
    "#         print(\"Linkedin sent you an OTP to your email.\")\n",
    "#         otp_db = my_db.linkedin_otp\n",
    "#         otp_db.insert({\"linkedin_login_url\": Email_id, \"Status\":\"OTP sent\"})\n",
    "#     # execute \"python otp.py <email> <otp>\" in another terminal\n",
    "#         flag = True\n",
    "#         while flag:\n",
    "#             data = otp_db.find({\"linkedin_login_url\": Email_id, \"Status\":\"OTP updated\"})\n",
    "#             data = list(data)\n",
    "#             # print(data)\n",
    "#             # print(len(data))\n",
    "#             if len(data) == 1:\n",
    "#                 # print(data[0]['OTP'])\n",
    "#                 otp = data[0]['OTP']\n",
    "#                 # print(\"otp is: \",otp)\n",
    "#                 otp_db.update_many( \n",
    "#                 {\"linkedin_login_url\":Email_id, \"Status\":\"OTP updated\"}, \n",
    "#                 { \"$set\":{ \"Status\":\"Login complete\" }},)\n",
    "#                 break\n",
    "#             time.sleep(5)\n",
    "#         # otp = int(input(\"Please enter the OTP recieved at registered mobile number: \"))\n",
    "#         # driver.current_url\n",
    "#         submit_otp = driver.find_element_by_name(\"pin\")\n",
    "#         submit_otp.send_keys(otp)\n",
    "#         submit_otp.send_keys(Keys.RETURN)\n",
    "\n",
    "#     if 'https://www.linkedin.com/checkpoint' in driver.current_url:\n",
    "#         otp()\n",
    "\n",
    "    \n",
    "#     my_db.linkedin_otp.drop()\n",
    "    \n",
    "    #search for keyword\n",
    "    \n",
    "#     pagination\n",
    "\n",
    "#     pagination\n",
    "    pagination = url\n",
    "    count = 1\n",
    "    page = 1\n",
    "    while count <= limit:\n",
    "        \n",
    "        \n",
    "        pagination = f\"{pagination}&page={page}\"\n",
    "        print(pagination)\n",
    "        \n",
    "        #list for search result\n",
    "        driver.get(pagination)\n",
    "        length = driver.execute_script(\"return document.documentElement.scrollHeight\")\n",
    "#         for i in range(100, length, 100):\n",
    "#             driver.execute_script(\"window.scrollTo(0, \" + str(i) + \")\")\n",
    "#             time.sleep(2)\n",
    "        result_list = driver.find_elements_by_xpath(\"//li[@class='reusable-search__result-container ']\")\n",
    "#         print(result_list)\n",
    "        time.sleep(5)\n",
    "        for enu,result in enumerate(result_list):\n",
    "#             button = driver.find_elements_by_xpath(\"//section[@class='msg-overlay-bubble-header__controls display-flex']\")\n",
    "#             print(type(button))\n",
    "#             print(button)\n",
    "#             button.click()\n",
    "#             break\n",
    "            enu +=1\n",
    "#             enu=enu*10\n",
    "#             driver.execute_script(f\"window.scrollTo(0,{enu})\")\n",
    "#             print('next')\n",
    "            print(result)\n",
    "            continue\n",
    "            time.sleep(5)\n",
    "            if count <= limit:\n",
    "                print(\"trying\")\n",
    "                try:\n",
    "                    connect = result.find_element_by_xpath(\"//button[@class='artdeco-button artdeco-button--2 artdeco-button--secondary ember-view']\")\n",
    "                    print(connect)\n",
    "                    time.sleep(5)\n",
    "\n",
    "                    connect.click()\n",
    "#                     break\n",
    "                    print(\"sending req\")\n",
    "                    add_note = driver.find_element_by_xpath(\"//button[@aria-label='Add a note']\")\n",
    "                    add_note.click()\n",
    "\n",
    "                    add_note = driver.find_element_by_xpath(\"//textarea[@name='message']\")\n",
    "                    add_note.send_keys('I have a job opportunity for you.')\n",
    "                    time.sleep(random.choice(sleeps))\n",
    "                    send_req = driver.find_element_by_xpath(\"//button[@aria-label='Send now']\")\n",
    "                    send_req.click()\n",
    "                    time.sleep(random.choice(sleeps))\n",
    "                    count +=1 \n",
    "                    driver.get(url)\n",
    "                    time.sleep(random.choice(sleeps))\n",
    "                except:\n",
    "                    print(\"Connection request already sent\")\n",
    "                    traceback.print_exc()\n",
    "                    \n",
    "        \n",
    "        page +=1\n",
    "        print(page)\n",
    "        break\n",
    "\n",
    "    "
   ]
  },
  {
   "cell_type": "code",
   "execution_count": 77,
   "metadata": {},
   "outputs": [
    {
     "name": "stdout",
     "output_type": "stream",
     "text": [
      "https://www.linkedin.com/search/results/people/?geoUrn=%5B%22102713980%22%5D&keywords=MERN&origin=FACETED_SEARCH&page=1\n",
      "<selenium.webdriver.remote.webelement.WebElement (session=\"f9dd7c2241183a7f8e22d54ed3619003\", element=\"926c9f89-61fd-4acb-8fe7-a72a5e503e22\")>\n",
      "<selenium.webdriver.remote.webelement.WebElement (session=\"f9dd7c2241183a7f8e22d54ed3619003\", element=\"3a07cf06-74cf-484f-bb0a-901233add8b0\")>\n",
      "<selenium.webdriver.remote.webelement.WebElement (session=\"f9dd7c2241183a7f8e22d54ed3619003\", element=\"76d0a174-3677-42db-ab69-133ff10a425f\")>\n",
      "<selenium.webdriver.remote.webelement.WebElement (session=\"f9dd7c2241183a7f8e22d54ed3619003\", element=\"a53e2cd1-6dd4-48b3-88f1-f42c480d4ec7\")>\n",
      "<selenium.webdriver.remote.webelement.WebElement (session=\"f9dd7c2241183a7f8e22d54ed3619003\", element=\"c975b735-3692-49c7-955f-d7f855b93dae\")>\n",
      "<selenium.webdriver.remote.webelement.WebElement (session=\"f9dd7c2241183a7f8e22d54ed3619003\", element=\"5a42d715-8ca5-40d0-81ea-cba5526da026\")>\n",
      "<selenium.webdriver.remote.webelement.WebElement (session=\"f9dd7c2241183a7f8e22d54ed3619003\", element=\"88587e92-0bd3-4ae2-90a0-d1d3e3f4947d\")>\n",
      "<selenium.webdriver.remote.webelement.WebElement (session=\"f9dd7c2241183a7f8e22d54ed3619003\", element=\"6ed9400a-af97-45e1-b58b-faf26c5e51fb\")>\n",
      "<selenium.webdriver.remote.webelement.WebElement (session=\"f9dd7c2241183a7f8e22d54ed3619003\", element=\"fae4e22d-73bb-4648-834b-cd0024363caf\")>\n",
      "<selenium.webdriver.remote.webelement.WebElement (session=\"f9dd7c2241183a7f8e22d54ed3619003\", element=\"7bf22e2b-c7fc-4956-b1ff-522dc210a4b0\")>\n",
      "2\n"
     ]
    }
   ],
   "source": [
    "send_connection_requests()"
   ]
  },
  {
   "cell_type": "code",
   "execution_count": 8,
   "metadata": {},
   "outputs": [
    {
     "name": "stdout",
     "output_type": "stream",
     "text": [
      "10\n",
      "1\n",
      "20\n",
      "2\n",
      "30\n",
      "3\n",
      "40\n",
      "4\n"
     ]
    }
   ],
   "source": [
    "a=1\n",
    "for i in range (10,50,10):\n",
    "    print(i)\n",
    "    if a<5:\n",
    "        print(a)\n",
    "        a +=1"
   ]
  },
  {
   "cell_type": "code",
   "execution_count": 62,
   "metadata": {},
   "outputs": [
    {
     "ename": "JavascriptException",
     "evalue": "Message: javascript error: Failed to execute 'scrollTo' on 'Window': cannot convert to dictionary.\n  (Session info: chrome=87.0.4280.141)\n",
     "output_type": "error",
     "traceback": [
      "\u001b[1;31m---------------------------------------------------------------------------\u001b[0m",
      "\u001b[1;31mJavascriptException\u001b[0m                       Traceback (most recent call last)",
      "\u001b[1;32m<ipython-input-62-65ae467a9129>\u001b[0m in \u001b[0;36m<module>\u001b[1;34m\u001b[0m\n\u001b[1;32m----> 1\u001b[1;33m \u001b[0mdriver\u001b[0m\u001b[1;33m.\u001b[0m\u001b[0mexecute_script\u001b[0m\u001b[1;33m(\u001b[0m\u001b[1;34m\"window.scrollTo(100)\"\u001b[0m\u001b[1;33m)\u001b[0m\u001b[1;33m\u001b[0m\u001b[1;33m\u001b[0m\u001b[0m\n\u001b[0m",
      "\u001b[1;32m~\\Anaconda3\\envs\\scraping_env\\lib\\site-packages\\selenium\\webdriver\\remote\\webdriver.py\u001b[0m in \u001b[0;36mexecute_script\u001b[1;34m(self, script, *args)\u001b[0m\n\u001b[0;32m    632\u001b[0m             \u001b[0mcommand\u001b[0m \u001b[1;33m=\u001b[0m \u001b[0mCommand\u001b[0m\u001b[1;33m.\u001b[0m\u001b[0mEXECUTE_SCRIPT\u001b[0m\u001b[1;33m\u001b[0m\u001b[1;33m\u001b[0m\u001b[0m\n\u001b[0;32m    633\u001b[0m \u001b[1;33m\u001b[0m\u001b[0m\n\u001b[1;32m--> 634\u001b[1;33m         return self.execute(command, {\n\u001b[0m\u001b[0;32m    635\u001b[0m             \u001b[1;34m'script'\u001b[0m\u001b[1;33m:\u001b[0m \u001b[0mscript\u001b[0m\u001b[1;33m,\u001b[0m\u001b[1;33m\u001b[0m\u001b[1;33m\u001b[0m\u001b[0m\n\u001b[0;32m    636\u001b[0m             'args': converted_args})['value']\n",
      "\u001b[1;32m~\\Anaconda3\\envs\\scraping_env\\lib\\site-packages\\selenium\\webdriver\\remote\\webdriver.py\u001b[0m in \u001b[0;36mexecute\u001b[1;34m(self, driver_command, params)\u001b[0m\n\u001b[0;32m    319\u001b[0m         \u001b[0mresponse\u001b[0m \u001b[1;33m=\u001b[0m \u001b[0mself\u001b[0m\u001b[1;33m.\u001b[0m\u001b[0mcommand_executor\u001b[0m\u001b[1;33m.\u001b[0m\u001b[0mexecute\u001b[0m\u001b[1;33m(\u001b[0m\u001b[0mdriver_command\u001b[0m\u001b[1;33m,\u001b[0m \u001b[0mparams\u001b[0m\u001b[1;33m)\u001b[0m\u001b[1;33m\u001b[0m\u001b[1;33m\u001b[0m\u001b[0m\n\u001b[0;32m    320\u001b[0m         \u001b[1;32mif\u001b[0m \u001b[0mresponse\u001b[0m\u001b[1;33m:\u001b[0m\u001b[1;33m\u001b[0m\u001b[1;33m\u001b[0m\u001b[0m\n\u001b[1;32m--> 321\u001b[1;33m             \u001b[0mself\u001b[0m\u001b[1;33m.\u001b[0m\u001b[0merror_handler\u001b[0m\u001b[1;33m.\u001b[0m\u001b[0mcheck_response\u001b[0m\u001b[1;33m(\u001b[0m\u001b[0mresponse\u001b[0m\u001b[1;33m)\u001b[0m\u001b[1;33m\u001b[0m\u001b[1;33m\u001b[0m\u001b[0m\n\u001b[0m\u001b[0;32m    322\u001b[0m             response['value'] = self._unwrap_value(\n\u001b[0;32m    323\u001b[0m                 response.get('value', None))\n",
      "\u001b[1;32m~\\Anaconda3\\envs\\scraping_env\\lib\\site-packages\\selenium\\webdriver\\remote\\errorhandler.py\u001b[0m in \u001b[0;36mcheck_response\u001b[1;34m(self, response)\u001b[0m\n\u001b[0;32m    240\u001b[0m                 \u001b[0malert_text\u001b[0m \u001b[1;33m=\u001b[0m \u001b[0mvalue\u001b[0m\u001b[1;33m[\u001b[0m\u001b[1;34m'alert'\u001b[0m\u001b[1;33m]\u001b[0m\u001b[1;33m.\u001b[0m\u001b[0mget\u001b[0m\u001b[1;33m(\u001b[0m\u001b[1;34m'text'\u001b[0m\u001b[1;33m)\u001b[0m\u001b[1;33m\u001b[0m\u001b[1;33m\u001b[0m\u001b[0m\n\u001b[0;32m    241\u001b[0m             \u001b[1;32mraise\u001b[0m \u001b[0mexception_class\u001b[0m\u001b[1;33m(\u001b[0m\u001b[0mmessage\u001b[0m\u001b[1;33m,\u001b[0m \u001b[0mscreen\u001b[0m\u001b[1;33m,\u001b[0m \u001b[0mstacktrace\u001b[0m\u001b[1;33m,\u001b[0m \u001b[0malert_text\u001b[0m\u001b[1;33m)\u001b[0m\u001b[1;33m\u001b[0m\u001b[1;33m\u001b[0m\u001b[0m\n\u001b[1;32m--> 242\u001b[1;33m         \u001b[1;32mraise\u001b[0m \u001b[0mexception_class\u001b[0m\u001b[1;33m(\u001b[0m\u001b[0mmessage\u001b[0m\u001b[1;33m,\u001b[0m \u001b[0mscreen\u001b[0m\u001b[1;33m,\u001b[0m \u001b[0mstacktrace\u001b[0m\u001b[1;33m)\u001b[0m\u001b[1;33m\u001b[0m\u001b[1;33m\u001b[0m\u001b[0m\n\u001b[0m\u001b[0;32m    243\u001b[0m \u001b[1;33m\u001b[0m\u001b[0m\n\u001b[0;32m    244\u001b[0m     \u001b[1;32mdef\u001b[0m \u001b[0m_value_or_default\u001b[0m\u001b[1;33m(\u001b[0m\u001b[0mself\u001b[0m\u001b[1;33m,\u001b[0m \u001b[0mobj\u001b[0m\u001b[1;33m,\u001b[0m \u001b[0mkey\u001b[0m\u001b[1;33m,\u001b[0m \u001b[0mdefault\u001b[0m\u001b[1;33m)\u001b[0m\u001b[1;33m:\u001b[0m\u001b[1;33m\u001b[0m\u001b[1;33m\u001b[0m\u001b[0m\n",
      "\u001b[1;31mJavascriptException\u001b[0m: Message: javascript error: Failed to execute 'scrollTo' on 'Window': cannot convert to dictionary.\n  (Session info: chrome=87.0.4280.141)\n"
     ]
    }
   ],
   "source": [
    "driver.execute_script(\"window.scrollTo(0,100)\")"
   ]
  },
  {
   "cell_type": "code",
   "execution_count": null,
   "metadata": {},
   "outputs": [],
   "source": []
  },
  {
   "cell_type": "code",
   "execution_count": null,
   "metadata": {},
   "outputs": [],
   "source": []
  }
 ],
 "metadata": {
  "kernelspec": {
   "display_name": "Python [conda env:scraping_env]",
   "language": "python",
   "name": "conda-env-scraping_env-py"
  },
  "language_info": {
   "codemirror_mode": {
    "name": "ipython",
    "version": 3
   },
   "file_extension": ".py",
   "mimetype": "text/x-python",
   "name": "python",
   "nbconvert_exporter": "python",
   "pygments_lexer": "ipython3",
   "version": "3.8.5"
  }
 },
 "nbformat": 4,
 "nbformat_minor": 4
}
