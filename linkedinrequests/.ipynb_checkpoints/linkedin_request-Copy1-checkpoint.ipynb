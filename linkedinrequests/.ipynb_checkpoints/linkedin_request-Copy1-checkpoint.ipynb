{
 "cells": [
  {
   "cell_type": "code",
   "execution_count": 2,
   "metadata": {},
   "outputs": [],
   "source": [
    "from selenium import webdriver\n",
    "from selenium.webdriver.common.keys import Keys\n",
    "from selenium.webdriver.chrome.options import Options\n",
    "from bs4 import BeautifulSoup\n",
    "import requests\n",
    "import sys\n",
    "import time\n",
    "import random"
   ]
  },
  {
   "cell_type": "code",
   "execution_count": 3,
   "metadata": {},
   "outputs": [],
   "source": [
    "PATH = r\"C:\\Users\\BILAL\\Projects\\LinkedInScraper\\chromedriver.exe\"\n",
    "driver = webdriver.Chrome(PATH)\n",
    "chrome_options = Options()\n",
    "sleeps = [2,3,4]\n",
    "\n",
    "#sign in into linked account\n",
    "driver.get(\"https://www.linkedin.com/login\")\n",
    "driver.find_element_by_id(\"username\").send_keys('donnybegins@gmail.com')\n",
    "password = driver.find_element_by_id(\"password\")\n",
    "time.sleep(random.choice(sleeps))\n",
    "password.send_keys('myaccount')\n",
    "password.send_keys(Keys.RETURN)\n",
    "\n",
    "search = driver.find_element_by_class_name(\"search-global-typeahead__input \")\n",
    "search.send_keys(\"MERN\")\n",
    "search.send_keys(Keys.RETURN)\n",
    "time.sleep(10)\n",
    "#clicking on people's tab\n",
    "people = driver.find_element_by_xpath(\"//button[@aria-label='People']\")\n",
    "people.click()\n",
    "\n",
    "length = driver.execute_script(\"return document.documentElement.scrollHeight\")\n",
    "for i in range(100, length, 100):\n",
    "    driver.execute_script(\"window.scrollTo(0, \" + str(i) + \")\")\n",
    "    time.sleep(2)\n",
    "\n",
    "#selecting location(India)\n",
    "container = driver.find_element_by_xpath(\"//button[@aria-label='Locations filter. Clicking this button displays all Locations filter options.']\")\n",
    "container.click()\n",
    "country = driver.find_element_by_xpath(\"//label[@aria-label='Filter by India']\")\n",
    "country.click()\n",
    "\n",
    "location = driver.find_elements_by_xpath(\"//div[@class='artdeco-hoverable-content__shell']//button[@aria-label='Apply selected filter and show results']\")\n",
    "location[1].click()\n",
    "\n"
   ]
  },
  {
   "cell_type": "code",
   "execution_count": 4,
   "metadata": {},
   "outputs": [
    {
     "data": {
      "text/plain": [
       "'https://www.linkedin.com/search/results/people/?geoUrn=%5B%22102713980%22%5D&keywords=MERN&origin=FACETED_SEARCH'"
      ]
     },
     "execution_count": 4,
     "metadata": {},
     "output_type": "execute_result"
    }
   ],
   "source": [
    "url = driver.current_url\n",
    "url"
   ]
  },
  {
   "cell_type": "code",
   "execution_count": 10,
   "metadata": {},
   "outputs": [],
   "source": [
    "def send_connection_requests():\n",
    "    \n",
    "#     User_id = sys.argv[1]\n",
    "#     Email_id = sys.argv[2]\n",
    "#     Password = sys.argv[3]\n",
    "#     keyword = sys.argv[4]\n",
    "#     limit = sys.argv[5]\n",
    "    limit = 15\n",
    "    sleeps = [2,3,4]\n",
    "    \n",
    "    #setting up chrome driver\n",
    "    \n",
    "    \n",
    "#     def otp():\n",
    "#         print(\"Linkedin sent you an OTP to your email.\")\n",
    "#         otp_db = my_db.linkedin_otp\n",
    "#         otp_db.insert({\"linkedin_login_url\": Email_id, \"Status\":\"OTP sent\"})\n",
    "#     # execute \"python otp.py <email> <otp>\" in another terminal\n",
    "#         flag = True\n",
    "#         while flag:\n",
    "#             data = otp_db.find({\"linkedin_login_url\": Email_id, \"Status\":\"OTP updated\"})\n",
    "#             data = list(data)\n",
    "#             # print(data)\n",
    "#             # print(len(data))\n",
    "#             if len(data) == 1:\n",
    "#                 # print(data[0]['OTP'])\n",
    "#                 otp = data[0]['OTP']\n",
    "#                 # print(\"otp is: \",otp)\n",
    "#                 otp_db.update_many( \n",
    "#                 {\"linkedin_login_url\":Email_id, \"Status\":\"OTP updated\"}, \n",
    "#                 { \"$set\":{ \"Status\":\"Login complete\" }},)\n",
    "#                 break\n",
    "#             time.sleep(5)\n",
    "#         # otp = int(input(\"Please enter the OTP recieved at registered mobile number: \"))\n",
    "#         # driver.current_url\n",
    "#         submit_otp = driver.find_element_by_name(\"pin\")\n",
    "#         submit_otp.send_keys(otp)\n",
    "#         submit_otp.send_keys(Keys.RETURN)\n",
    "\n",
    "#     if 'https://www.linkedin.com/checkpoint' in driver.current_url:\n",
    "#         otp()\n",
    "\n",
    "    \n",
    "#     my_db.linkedin_otp.drop()\n",
    "    \n",
    "    #search for keyword\n",
    "    \n",
    "#     pagination\n",
    "\n",
    "#     pagination\n",
    "    pagination = url\n",
    "    count = 1\n",
    "    page = 1\n",
    "    while count <= limit:\n",
    "        \n",
    "        \n",
    "        pagination = f\"{pagination}&page={page}\"\n",
    "        print(pagination)\n",
    "        \n",
    "        #list for search result\n",
    "        driver.get(pagination)\n",
    "        result_list = driver.find_elements_by_xpath(\"//li[@class='reusable-search__result-container ']\")\n",
    "        print(result_list)\n",
    "        \n",
    "        for enu,result in enumerate(result_list):\n",
    "            if count <= limit:\n",
    "                try:\n",
    "                    connect = result.find_element_by_xpath(\"//button[@class='artdeco-button artdeco-button--2 artdeco-button--secondary ember-view']\")\n",
    "#                     print(connect)\n",
    "                    connect.click()\n",
    "\n",
    "                    add_note = driver.find_element_by_xpath(\"//button[@aria-label='Add a note']\")\n",
    "                    add_note.click()\n",
    "\n",
    "                    add_note = driver.find_element_by_xpath(\"//textarea[@name='message']\")\n",
    "                    add_note.send_keys('I have a job opportunity for you.')\n",
    "\n",
    "                    send_req = driver.find_element_by_xpath(\"//button[@aria-label='Send now']\")\n",
    "                    count +=1 \n",
    "                except:\n",
    "                    print(\"Connection request already sent\")\n",
    "            \n",
    "        \n",
    "        page +=1\n",
    "        print(page)\n",
    "        break\n",
    "\n",
    "    "
   ]
  },
  {
   "cell_type": "code",
   "execution_count": 11,
   "metadata": {},
   "outputs": [
    {
     "name": "stdout",
     "output_type": "stream",
     "text": [
      "https://www.linkedin.com/search/results/people/?geoUrn=%5B%22102713980%22%5D&keywords=MERN&origin=FACETED_SEARCH&page=1\n",
      "[<selenium.webdriver.remote.webelement.WebElement (session=\"4a0a4f9c3a2b64d07fb0c2db5b4dafb8\", element=\"f64d4d70-2a39-4b0c-9fab-7bd1248d6956\")>, <selenium.webdriver.remote.webelement.WebElement (session=\"4a0a4f9c3a2b64d07fb0c2db5b4dafb8\", element=\"3e6b2085-92ea-4abb-9363-e88af7dd7a0d\")>, <selenium.webdriver.remote.webelement.WebElement (session=\"4a0a4f9c3a2b64d07fb0c2db5b4dafb8\", element=\"4d824fa7-3450-4c4b-ad54-675e0c3cc264\")>, <selenium.webdriver.remote.webelement.WebElement (session=\"4a0a4f9c3a2b64d07fb0c2db5b4dafb8\", element=\"dfe5368b-7d98-4118-9d46-8b85586b6ce8\")>, <selenium.webdriver.remote.webelement.WebElement (session=\"4a0a4f9c3a2b64d07fb0c2db5b4dafb8\", element=\"07c28ac0-1c2e-43c1-b229-b5a5e35b781f\")>, <selenium.webdriver.remote.webelement.WebElement (session=\"4a0a4f9c3a2b64d07fb0c2db5b4dafb8\", element=\"853a4720-2af3-4859-8770-8bd004afc3b4\")>, <selenium.webdriver.remote.webelement.WebElement (session=\"4a0a4f9c3a2b64d07fb0c2db5b4dafb8\", element=\"710538fb-4479-47a9-aaa7-0f84f02faa65\")>, <selenium.webdriver.remote.webelement.WebElement (session=\"4a0a4f9c3a2b64d07fb0c2db5b4dafb8\", element=\"e728a12f-92e3-4bad-ab7a-6352a4334a90\")>, <selenium.webdriver.remote.webelement.WebElement (session=\"4a0a4f9c3a2b64d07fb0c2db5b4dafb8\", element=\"cdfcf19c-3252-4a71-a064-f8a298a09759\")>, <selenium.webdriver.remote.webelement.WebElement (session=\"4a0a4f9c3a2b64d07fb0c2db5b4dafb8\", element=\"9088c219-b526-4e7f-bb7b-7387fc7aef1b\")>]\n",
      "Connection request already sent\n",
      "Connection request already sent\n",
      "Connection request already sent\n",
      "Connection request already sent\n",
      "Connection request already sent\n",
      "Connection request already sent\n",
      "Connection request already sent\n",
      "Connection request already sent\n",
      "Connection request already sent\n",
      "2\n"
     ]
    }
   ],
   "source": [
    "send_connection_requests()"
   ]
  },
  {
   "cell_type": "code",
   "execution_count": 8,
   "metadata": {},
   "outputs": [
    {
     "name": "stdout",
     "output_type": "stream",
     "text": [
      "10\n",
      "1\n",
      "20\n",
      "2\n",
      "30\n",
      "3\n",
      "40\n",
      "4\n"
     ]
    }
   ],
   "source": [
    "a=1\n",
    "for i in range (10,50,10):\n",
    "    print(i)\n",
    "    if a<5:\n",
    "        print(a)\n",
    "        a +=1"
   ]
  },
  {
   "cell_type": "code",
   "execution_count": null,
   "metadata": {},
   "outputs": [],
   "source": []
  },
  {
   "cell_type": "code",
   "execution_count": null,
   "metadata": {},
   "outputs": [],
   "source": []
  },
  {
   "cell_type": "code",
   "execution_count": null,
   "metadata": {},
   "outputs": [],
   "source": []
  }
 ],
 "metadata": {
  "kernelspec": {
   "display_name": "Python [conda env:scraping_env]",
   "language": "python",
   "name": "conda-env-scraping_env-py"
  },
  "language_info": {
   "codemirror_mode": {
    "name": "ipython",
    "version": 3
   },
   "file_extension": ".py",
   "mimetype": "text/x-python",
   "name": "python",
   "nbconvert_exporter": "python",
   "pygments_lexer": "ipython3",
   "version": "3.8.5"
  }
 },
 "nbformat": 4,
 "nbformat_minor": 4
}
