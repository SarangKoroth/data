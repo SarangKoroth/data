{
 "cells": [
  {
   "cell_type": "code",
   "execution_count": 1,
   "metadata": {},
   "outputs": [],
   "source": [
    "from selenium import webdriver\n",
    "from selenium.webdriver.common.keys import Keys\n",
    "from selenium.webdriver.chrome.options import Options\n",
    "from bs4 import BeautifulSoup\n",
    "import requests\n",
    "import sys\n",
    "import time"
   ]
  },
  {
   "cell_type": "code",
   "execution_count": null,
   "metadata": {},
   "outputs": [],
   "source": [
    "def send_connection_requests():\n",
    "    \n",
    "    User_id = sys.argv[1]\n",
    "    Email_id = sys.argv[2]\n",
    "    Password = sys.argv[3]\n",
    "    keyword = sys.argv[4]\n",
    "    limit = sys.argv[5]\n",
    "    \n",
    "    sleeps = [2,3,4]\n",
    "    \n",
    "    #setting up chrome driver\n",
    "    PATH = r\"C:\\Users\\BILAL\\Projects\\LinkedInScraper\\chromedriver.exe\"\n",
    "    driver = webdriver.Chrome(PATH)\n",
    "    chrome_options = Options()\n",
    "    \n",
    "    #sign in into linked account\n",
    "    driver.get(\"https://www.linkedin.com/login\")\n",
    "    driver.find_element_by_id(\"username\").send_keys('donnybegins@gmail.com')\n",
    "    password = driver.find_element_by_id(\"password\")\n",
    "    time.sleep(random.choice(sleeps))\n",
    "    password.send_keys('myaccount')\n",
    "    password.send_keys(Keys.RETURN)\n",
    "    \n",
    "    #search for keyword\n",
    "    search = driver.find_element_by_class_name(\"search-global-typeahead__input \")\n",
    "    search.send_keys(\"MERN\")\n",
    "    search.send_keys(Keys.RETURN)\n",
    "    \n",
    "    #clicking on people's tab\n",
    "    people = driver.find_element_by_xpath(\"//button[@aria-label='People']\")\n",
    "    people.click()\n",
    "    \n",
    "    #selecting location(India)\n",
    "    container = driver.find_element_by_xpath(\"//button[@aria-label='Locations filter. Clicking this button displays all Locations filter options.']\")\n",
    "    container.click()\n",
    "    country = driver.find_element_by_xpath(\"//label[@aria-label='Filter by India']\")\n",
    "    country.click()\n",
    "    \n",
    "\n",
    "    \n",
    "    count = 1\n",
    "    if count <= limit:\n",
    "    #list for search result\n",
    "        result_list = driver.find_elements_by_xpath(\"//li[@class='reusable-search__result-container ']\")\n",
    "        for enu,result in enumerate(result_list):\n",
    "            try:\n",
    "                connect = result.find_element_by_xpath(\"//button[@class='artdeco-button artdeco-button--2 artdeco-button--secondary ember-view']\")\n",
    "                print(connect)\n",
    "                connect.click()\n",
    "\n",
    "                add_note = driver.find_element_by_xpath(\"//button[@aria-label='Add a note']\")\n",
    "                add_note.click()\n",
    "\n",
    "                add_note = driver.find_element_by_xpath(\"//textarea[@name='message']\")\n",
    "                add_note.send_keys('I have a job opportunity for you.')\n",
    "\n",
    "                send_req = driver.find_element_by_xpath(\"//button[@aria-label='Send now']\")\n",
    "                count =+1 \n",
    "            except:\n",
    "                print(\"Connection request already sent\")\n",
    "                continue\n",
    "    #         break\n",
    "\n",
    "    "
   ]
  },
  {
   "cell_type": "code",
   "execution_count": null,
   "metadata": {},
   "outputs": [],
   "source": []
  },
  {
   "cell_type": "code",
   "execution_count": null,
   "metadata": {},
   "outputs": [],
   "source": []
  },
  {
   "cell_type": "code",
   "execution_count": null,
   "metadata": {},
   "outputs": [],
   "source": []
  },
  {
   "cell_type": "code",
   "execution_count": null,
   "metadata": {},
   "outputs": [],
   "source": []
  }
 ],
 "metadata": {
  "kernelspec": {
   "display_name": "Python [conda env:scraping_env]",
   "language": "python",
   "name": "conda-env-scraping_env-py"
  },
  "language_info": {
   "codemirror_mode": {
    "name": "ipython",
    "version": 3
   },
   "file_extension": ".py",
   "mimetype": "text/x-python",
   "name": "python",
   "nbconvert_exporter": "python",
   "pygments_lexer": "ipython3",
   "version": "3.8.5"
  }
 },
 "nbformat": 4,
 "nbformat_minor": 4
}
