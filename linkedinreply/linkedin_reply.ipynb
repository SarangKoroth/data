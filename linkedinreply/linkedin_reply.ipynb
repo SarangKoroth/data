{
 "cells": [
  {
   "cell_type": "code",
   "execution_count": 2,
   "metadata": {},
   "outputs": [],
   "source": [
    "from selenium import webdriver\n",
    "from selenium.webdriver.common.keys import Keys\n",
    "from selenium.webdriver.chrome.options import Options\n",
    "from bs4 import BeautifulSoup\n",
    "import requests\n",
    "import time\n",
    "import random\n",
    "import sys\n",
    "import pymongo\n",
    "import urllib.parse\n",
    "import dns\n",
    "from mongoengine import *\n",
    "from mongoengine.context_managers import switch_collection"
   ]
  },
  {
   "cell_type": "code",
   "execution_count": 4,
   "metadata": {},
   "outputs": [],
   "source": [
    "sleeps = [2,3,4]\n",
    "def otp():\n",
    "    client = pymongo.MongoClient('mongodb+srv://bilalm:' + urllib.parse.quote_plus('Codemarket.123') + '@codemarket-staging.k16z7.mongodb.net/dreamjobpal?retryWrites=true&w=majority')\n",
    "    my_db = client['dreamjobpal']\n",
    "    time.sleep(random.choice(sleeps))\n",
    "    print(\"Linkedin sent you an OTP to your email.\")\n",
    "    otp_db = my_db.linkedin_otp\n",
    "    otp_db.insert({\"linkedin_login_url\": Email_id, \"Status\":\"OTP sent\"})\n",
    "# execute \"python otp.py <email> <otp>\" in another terminal\n",
    "    flag = True\n",
    "    while flag:\n",
    "        data = otp_db.find({\"linkedin_login_url\": Email_id, \"Status\":\"OTP updated\"})\n",
    "        data = list(data)\n",
    "        # print(data)\n",
    "        # print(len(data))\n",
    "        if len(data) == 1:\n",
    "            # print(data[0]['OTP'])\n",
    "            otp = data[0]['OTP']\n",
    "            # print(\"otp is: \",otp)\n",
    "            otp_db.update_many( \n",
    "            {\"linkedin_login_url\":Email_id, \"Status\":\"OTP updated\"}, \n",
    "            { \"$set\":{ \"Status\":\"Login complete\" }},)\n",
    "            break\n",
    "        time.sleep(5)\n",
    "    # otp = int(input(\"Please enter the OTP recieved at registered mobile number: \"))\n",
    "    # driver.current_url\n",
    "    submit_otp = driver.find_element_by_name(\"pin\")\n",
    "    submit_otp.send_keys(otp)\n",
    "    submit_otp.send_keys(Keys.RETURN)\n",
    "        \n",
    "def chat_scroll():\n",
    "    chats = chat_list.find_elements_by_xpath(\"//div[@class='msg-conversation-listitem__link msg-overlay-list-bubble__convo-item   msg-overlay-list-bubble__convo-item--v3']\")\n",
    "    chat_len = len(chats)\n",
    "    for l in chats :\n",
    "        driver.execute_script(\"arguments[0].scrollIntoView();\", l)\n",
    "        time.sleep(1)\n",
    "        chat_check = chat_list.find_elements_by_xpath(\"//div[@class='msg-conversation-listitem__link msg-overlay-list-bubble__convo-item   msg-overlay-list-bubble__convo-item--v3']\")\n",
    "#         print(len(chat_check))\n",
    "    if len(chat_check) > chat_len:\n",
    "        chat_scroll()\n",
    "    return chat_check\n",
    "\n",
    "PATH = r\"C:\\Users\\BILAL\\Projects\\LinkedInScraper\\chromedriver.exe\"\n",
    "# PATH= r\"/usr/local/bin/chromedriver\"\n",
    "chrome_options = Options()\n",
    "driver = webdriver.Chrome(PATH,options=chrome_options)\n",
    "\n",
    "\n",
    "driver.get(\"https://www.linkedin.com/login\")\n",
    "driver.find_element_by_id(\"username\").send_keys('donnybegins@gmail.com')\n",
    "password = driver.find_element_by_id(\"password\")\n",
    "time.sleep(random.choice(sleeps))\n",
    "password.send_keys('myaccount')\n",
    "password.send_keys(Keys.RETURN)\n",
    "\n",
    "if 'https://www.linkedin.com/checkpoint' in driver.current_url:\n",
    "        otp()\n",
    "    print('Login...')\n",
    "    \n",
    "my_db.linkedin_otp.drop()\n",
    "\n",
    "\n",
    "\n",
    "        \n",
    "        \n",
    "        "
   ]
  },
  {
   "cell_type": "code",
   "execution_count": 34,
   "metadata": {},
   "outputs": [],
   "source": [
    "chat_list = driver.find_element_by_xpath(\"//div[@class='msg-conversations-container__conversations-list msg-overlay-list-bubble__conversations-list']\")\n",
    "# chat_list\n",
    "\n",
    "chat_container = chat_scroll()\n",
    "\n"
   ]
  },
  {
   "cell_type": "code",
   "execution_count": 51,
   "metadata": {},
   "outputs": [],
   "source": [
    "soup1 = BeautifulSoup(driver.page_source, 'html.parser')\n"
   ]
  },
  {
   "cell_type": "code",
   "execution_count": 52,
   "metadata": {},
   "outputs": [],
   "source": [
    "chats = soup1.find_all('div', attrs={\"class\": \"msg-conversation-listitem__link msg-overlay-list-bubble__convo-item msg-overlay-list-bubble__convo-item--v3\"})\n"
   ]
  },
  {
   "cell_type": "code",
   "execution_count": 53,
   "metadata": {},
   "outputs": [
    {
     "data": {
      "text/plain": [
       "40"
      ]
     },
     "execution_count": 53,
     "metadata": {},
     "output_type": "execute_result"
    }
   ],
   "source": [
    "len(chats)"
   ]
  },
  {
   "cell_type": "code",
   "execution_count": 55,
   "metadata": {},
   "outputs": [
    {
     "name": "stdout",
     "output_type": "stream",
     "text": [
      "New Message\n",
      "Bilal Momin\n",
      "https://www.linkedin.com/in/bilal-momin-189218192/\n",
      "/in/donny-koay-417462202/\n",
      "LINKKKKKKKKK /in/bilal-momin-189218192/\n",
      "LINKKKKKKKKK /in/donny-koay-417462202/\n",
      "LINK CHECK /in/donny-koay-417462202/\n",
      "adasadsxassa\n",
      "complete1\n",
      "LINKKKKKKKKK /in/donny-koay-417462202/\n",
      "LINK CHECK /in/donny-koay-417462202/\n",
      "www.soozzi.com/job?linkedinurl==https://www.linkedin.com/in/bilal-momin-189218192/&&firstname=Bilal&&lastname=Momin\n"
     ]
    },
    {
     "ename": "NoSuchElementException",
     "evalue": "Message: no such element: Unable to locate element: {\"method\":\"xpath\",\"selector\":\"//button[@data-control-name='overlay.close_conversation_window']\"}\n  (Session info: chrome=87.0.4280.141)\n",
     "output_type": "error",
     "traceback": [
      "\u001b[1;31m---------------------------------------------------------------------------\u001b[0m",
      "\u001b[1;31mNoSuchElementException\u001b[0m                    Traceback (most recent call last)",
      "\u001b[1;32m<ipython-input-55-550b43cbcbee>\u001b[0m in \u001b[0;36m<module>\u001b[1;34m\u001b[0m\n\u001b[0;32m     63\u001b[0m                 \u001b[1;32mbreak\u001b[0m\u001b[1;33m\u001b[0m\u001b[1;33m\u001b[0m\u001b[0m\n\u001b[0;32m     64\u001b[0m             \u001b[1;32melse\u001b[0m\u001b[1;33m:\u001b[0m\u001b[1;33m\u001b[0m\u001b[1;33m\u001b[0m\u001b[0m\n\u001b[1;32m---> 65\u001b[1;33m                 \u001b[0mclose_chat\u001b[0m \u001b[1;33m=\u001b[0m \u001b[0mdriver\u001b[0m\u001b[1;33m.\u001b[0m\u001b[0mfind_element_by_xpath\u001b[0m\u001b[1;33m(\u001b[0m\u001b[1;34m\"//button[@data-control-name='overlay.close_conversation_window']\"\u001b[0m\u001b[1;33m)\u001b[0m\u001b[1;33m\u001b[0m\u001b[1;33m\u001b[0m\u001b[0m\n\u001b[0m\u001b[0;32m     66\u001b[0m                 \u001b[0mtime\u001b[0m\u001b[1;33m.\u001b[0m\u001b[0msleep\u001b[0m\u001b[1;33m(\u001b[0m\u001b[0mrandom\u001b[0m\u001b[1;33m.\u001b[0m\u001b[0mchoice\u001b[0m\u001b[1;33m(\u001b[0m\u001b[0msleeps\u001b[0m\u001b[1;33m)\u001b[0m\u001b[1;33m)\u001b[0m\u001b[1;33m\u001b[0m\u001b[1;33m\u001b[0m\u001b[0m\n\u001b[0;32m     67\u001b[0m                 \u001b[0mclose_chat\u001b[0m\u001b[1;33m.\u001b[0m\u001b[0msend_keys\u001b[0m\u001b[1;33m(\u001b[0m\u001b[0mKeys\u001b[0m\u001b[1;33m.\u001b[0m\u001b[0mRETURN\u001b[0m\u001b[1;33m)\u001b[0m\u001b[1;33m\u001b[0m\u001b[1;33m\u001b[0m\u001b[0m\n",
      "\u001b[1;32m~\\Anaconda3\\envs\\scraping_env\\lib\\site-packages\\selenium\\webdriver\\remote\\webdriver.py\u001b[0m in \u001b[0;36mfind_element_by_xpath\u001b[1;34m(self, xpath)\u001b[0m\n\u001b[0;32m    392\u001b[0m             \u001b[0melement\u001b[0m \u001b[1;33m=\u001b[0m \u001b[0mdriver\u001b[0m\u001b[1;33m.\u001b[0m\u001b[0mfind_element_by_xpath\u001b[0m\u001b[1;33m(\u001b[0m\u001b[1;34m'//div/td[1]'\u001b[0m\u001b[1;33m)\u001b[0m\u001b[1;33m\u001b[0m\u001b[1;33m\u001b[0m\u001b[0m\n\u001b[0;32m    393\u001b[0m         \"\"\"\n\u001b[1;32m--> 394\u001b[1;33m         \u001b[1;32mreturn\u001b[0m \u001b[0mself\u001b[0m\u001b[1;33m.\u001b[0m\u001b[0mfind_element\u001b[0m\u001b[1;33m(\u001b[0m\u001b[0mby\u001b[0m\u001b[1;33m=\u001b[0m\u001b[0mBy\u001b[0m\u001b[1;33m.\u001b[0m\u001b[0mXPATH\u001b[0m\u001b[1;33m,\u001b[0m \u001b[0mvalue\u001b[0m\u001b[1;33m=\u001b[0m\u001b[0mxpath\u001b[0m\u001b[1;33m)\u001b[0m\u001b[1;33m\u001b[0m\u001b[1;33m\u001b[0m\u001b[0m\n\u001b[0m\u001b[0;32m    395\u001b[0m \u001b[1;33m\u001b[0m\u001b[0m\n\u001b[0;32m    396\u001b[0m     \u001b[1;32mdef\u001b[0m \u001b[0mfind_elements_by_xpath\u001b[0m\u001b[1;33m(\u001b[0m\u001b[0mself\u001b[0m\u001b[1;33m,\u001b[0m \u001b[0mxpath\u001b[0m\u001b[1;33m)\u001b[0m\u001b[1;33m:\u001b[0m\u001b[1;33m\u001b[0m\u001b[1;33m\u001b[0m\u001b[0m\n",
      "\u001b[1;32m~\\Anaconda3\\envs\\scraping_env\\lib\\site-packages\\selenium\\webdriver\\remote\\webdriver.py\u001b[0m in \u001b[0;36mfind_element\u001b[1;34m(self, by, value)\u001b[0m\n\u001b[0;32m    974\u001b[0m                 \u001b[0mby\u001b[0m \u001b[1;33m=\u001b[0m \u001b[0mBy\u001b[0m\u001b[1;33m.\u001b[0m\u001b[0mCSS_SELECTOR\u001b[0m\u001b[1;33m\u001b[0m\u001b[1;33m\u001b[0m\u001b[0m\n\u001b[0;32m    975\u001b[0m                 \u001b[0mvalue\u001b[0m \u001b[1;33m=\u001b[0m \u001b[1;34m'[name=\"%s\"]'\u001b[0m \u001b[1;33m%\u001b[0m \u001b[0mvalue\u001b[0m\u001b[1;33m\u001b[0m\u001b[1;33m\u001b[0m\u001b[0m\n\u001b[1;32m--> 976\u001b[1;33m         return self.execute(Command.FIND_ELEMENT, {\n\u001b[0m\u001b[0;32m    977\u001b[0m             \u001b[1;34m'using'\u001b[0m\u001b[1;33m:\u001b[0m \u001b[0mby\u001b[0m\u001b[1;33m,\u001b[0m\u001b[1;33m\u001b[0m\u001b[1;33m\u001b[0m\u001b[0m\n\u001b[0;32m    978\u001b[0m             'value': value})['value']\n",
      "\u001b[1;32m~\\Anaconda3\\envs\\scraping_env\\lib\\site-packages\\selenium\\webdriver\\remote\\webdriver.py\u001b[0m in \u001b[0;36mexecute\u001b[1;34m(self, driver_command, params)\u001b[0m\n\u001b[0;32m    319\u001b[0m         \u001b[0mresponse\u001b[0m \u001b[1;33m=\u001b[0m \u001b[0mself\u001b[0m\u001b[1;33m.\u001b[0m\u001b[0mcommand_executor\u001b[0m\u001b[1;33m.\u001b[0m\u001b[0mexecute\u001b[0m\u001b[1;33m(\u001b[0m\u001b[0mdriver_command\u001b[0m\u001b[1;33m,\u001b[0m \u001b[0mparams\u001b[0m\u001b[1;33m)\u001b[0m\u001b[1;33m\u001b[0m\u001b[1;33m\u001b[0m\u001b[0m\n\u001b[0;32m    320\u001b[0m         \u001b[1;32mif\u001b[0m \u001b[0mresponse\u001b[0m\u001b[1;33m:\u001b[0m\u001b[1;33m\u001b[0m\u001b[1;33m\u001b[0m\u001b[0m\n\u001b[1;32m--> 321\u001b[1;33m             \u001b[0mself\u001b[0m\u001b[1;33m.\u001b[0m\u001b[0merror_handler\u001b[0m\u001b[1;33m.\u001b[0m\u001b[0mcheck_response\u001b[0m\u001b[1;33m(\u001b[0m\u001b[0mresponse\u001b[0m\u001b[1;33m)\u001b[0m\u001b[1;33m\u001b[0m\u001b[1;33m\u001b[0m\u001b[0m\n\u001b[0m\u001b[0;32m    322\u001b[0m             response['value'] = self._unwrap_value(\n\u001b[0;32m    323\u001b[0m                 response.get('value', None))\n",
      "\u001b[1;32m~\\Anaconda3\\envs\\scraping_env\\lib\\site-packages\\selenium\\webdriver\\remote\\errorhandler.py\u001b[0m in \u001b[0;36mcheck_response\u001b[1;34m(self, response)\u001b[0m\n\u001b[0;32m    240\u001b[0m                 \u001b[0malert_text\u001b[0m \u001b[1;33m=\u001b[0m \u001b[0mvalue\u001b[0m\u001b[1;33m[\u001b[0m\u001b[1;34m'alert'\u001b[0m\u001b[1;33m]\u001b[0m\u001b[1;33m.\u001b[0m\u001b[0mget\u001b[0m\u001b[1;33m(\u001b[0m\u001b[1;34m'text'\u001b[0m\u001b[1;33m)\u001b[0m\u001b[1;33m\u001b[0m\u001b[1;33m\u001b[0m\u001b[0m\n\u001b[0;32m    241\u001b[0m             \u001b[1;32mraise\u001b[0m \u001b[0mexception_class\u001b[0m\u001b[1;33m(\u001b[0m\u001b[0mmessage\u001b[0m\u001b[1;33m,\u001b[0m \u001b[0mscreen\u001b[0m\u001b[1;33m,\u001b[0m \u001b[0mstacktrace\u001b[0m\u001b[1;33m,\u001b[0m \u001b[0malert_text\u001b[0m\u001b[1;33m)\u001b[0m\u001b[1;33m\u001b[0m\u001b[1;33m\u001b[0m\u001b[0m\n\u001b[1;32m--> 242\u001b[1;33m         \u001b[1;32mraise\u001b[0m \u001b[0mexception_class\u001b[0m\u001b[1;33m(\u001b[0m\u001b[0mmessage\u001b[0m\u001b[1;33m,\u001b[0m \u001b[0mscreen\u001b[0m\u001b[1;33m,\u001b[0m \u001b[0mstacktrace\u001b[0m\u001b[1;33m)\u001b[0m\u001b[1;33m\u001b[0m\u001b[1;33m\u001b[0m\u001b[0m\n\u001b[0m\u001b[0;32m    243\u001b[0m \u001b[1;33m\u001b[0m\u001b[0m\n\u001b[0;32m    244\u001b[0m     \u001b[1;32mdef\u001b[0m \u001b[0m_value_or_default\u001b[0m\u001b[1;33m(\u001b[0m\u001b[0mself\u001b[0m\u001b[1;33m,\u001b[0m \u001b[0mobj\u001b[0m\u001b[1;33m,\u001b[0m \u001b[0mkey\u001b[0m\u001b[1;33m,\u001b[0m \u001b[0mdefault\u001b[0m\u001b[1;33m)\u001b[0m\u001b[1;33m:\u001b[0m\u001b[1;33m\u001b[0m\u001b[1;33m\u001b[0m\u001b[0m\n",
      "\u001b[1;31mNoSuchElementException\u001b[0m: Message: no such element: Unable to locate element: {\"method\":\"xpath\",\"selector\":\"//button[@data-control-name='overlay.close_conversation_window']\"}\n  (Session info: chrome=87.0.4280.141)\n"
     ]
    }
   ],
   "source": [
    "for enu,chat in enumerate(chats):\n",
    "    chat = chats[enu].find('mark', attrs={\"class\":\"msg-conversation-card__unread-count\"})\n",
    "    if chat:\n",
    "        print(\"New Message\")\n",
    "        chat_container[enu].send_keys(Keys.RETURN)\n",
    "        time.sleep(random.choice(sleeps))\n",
    "        soup = BeautifulSoup(driver.page_source, 'html.parser')\n",
    "        chat_box = soup.find('div', {\"class\":\"msg-overlay-conversation-bubble\"})\n",
    "        \n",
    "        conversation_list = chat_box.find('ul', {\"class\":\"msg-s-message-list-content list-style-none full-width\"})\n",
    "        conversation = conversation_list.find_all('li')\n",
    "        #if len(conversation) < 4:\n",
    "        container = chat_box.find('h4')\n",
    "        name = container.find('a').text.strip()\n",
    "        print(name)\n",
    "        first_name = name.split(' ')[0]\n",
    "#             print(first_name)\n",
    "        last_name = name.split( ' ')[1]\n",
    "#             print(last_name)\n",
    "        time.sleep(random.choice(sleeps))\n",
    "\n",
    "        link = conversation[0].find_all('a')\n",
    "        link = link[1]['href']\n",
    "\n",
    "        profile_link= \"https://www.linkedin.com\"+link\n",
    "        print(profile_link)\n",
    "            \n",
    "        my_link = conversation[2].find('a')['href']\n",
    "        print(my_link)\n",
    "#         link=conversation[0].find('a')['href']\n",
    "#         profile_link= \"https://www.linkedin.com\"+link\n",
    "#         print(profile_link)\n",
    "        \n",
    "        conversation.reverse()\n",
    "        for num,messages in enumerate(conversation):\n",
    "            link_check = messages.find('a', attrs={\"data-control-name\":\"view_profile\"})\n",
    "            if link_check is None:\n",
    "                continue\n",
    "            print(\"LINKKKKKKKKK\",link_check['href'])\n",
    "            if link_check['href'] == my_link:\n",
    "                print(\"LINK CHECK\",link_check['href'])\n",
    "                conversation_msg = conversation[num].p.text.strip()\n",
    "                print(conversation_msg)\n",
    "            else:\n",
    "                continue\n",
    "            if conversation_msg == 'I have a great job opportunity for you' or conversation_msg == 'I have a great job opportunity for you.':\n",
    "                print(\"Replying\")\n",
    "\n",
    "                message = f\"www.soozzi.com/job?linkedinurl=={profile_link}&&firstname={first_name}&&lastname={last_name}\"\n",
    "        #             message = \"hii\"\n",
    "                reply = driver.find_element_by_xpath(\"//div[@aria-label='Write a message…']\")\n",
    "                time.sleep(random.choice(sleeps))\n",
    "                reply.send_keys(message)\n",
    "                send_reply = driver.find_element_by_xpath(\"//button[@type='submit']\")\n",
    "                time.sleep(random.choice(sleeps))\n",
    "\n",
    "                send_reply.send_keys(Keys.RETURN)\n",
    "\n",
    "                close_chat = driver.find_element_by_xpath(\"//button[@data-control-name='overlay.close_conversation_window']\")\n",
    "                close_chat.send_keys(Keys.RETURN)\n",
    "                print(\"Replied\")\n",
    "                time.sleep(random.choice(sleeps))\n",
    "                break\n",
    "            else: \n",
    "                close_chat = driver.find_element_by_xpath(\"//button[@data-control-name='overlay.close_conversation_window']\")\n",
    "                time.sleep(random.choice(sleeps))\n",
    "                close_chat.send_keys(Keys.RETURN)\n",
    "                time.sleep(random.choice(sleeps))\n",
    "            print(\"complete1\")\n",
    "#                 break\n",
    "#             else:\n",
    "#                 continue\n",
    "    print(\"complete2\")\n",
    "    #break            \n",
    "\n",
    "\n",
    "\n",
    "        "
   ]
  },
  {
   "cell_type": "code",
   "execution_count": 106,
   "metadata": {},
   "outputs": [],
   "source": []
  },
  {
   "cell_type": "code",
   "execution_count": 129,
   "metadata": {},
   "outputs": [],
   "source": []
  },
  {
   "cell_type": "code",
   "execution_count": 130,
   "metadata": {},
   "outputs": [],
   "source": []
  },
  {
   "cell_type": "code",
   "execution_count": 133,
   "metadata": {},
   "outputs": [],
   "source": []
  },
  {
   "cell_type": "code",
   "execution_count": null,
   "metadata": {},
   "outputs": [],
   "source": []
  }
 ],
 "metadata": {
  "kernelspec": {
   "display_name": "Python [conda env:scraping_env]",
   "language": "python",
   "name": "conda-env-scraping_env-py"
  },
  "language_info": {
   "codemirror_mode": {
    "name": "ipython",
    "version": 3
   },
   "file_extension": ".py",
   "mimetype": "text/x-python",
   "name": "python",
   "nbconvert_exporter": "python",
   "pygments_lexer": "ipython3",
   "version": "3.8.5"
  }
 },
 "nbformat": 4,
 "nbformat_minor": 4
}
