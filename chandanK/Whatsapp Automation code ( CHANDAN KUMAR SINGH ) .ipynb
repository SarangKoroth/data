{
 "cells": [
  {
   "cell_type": "code",
   "execution_count": 2,
   "metadata": {},
   "outputs": [
    {
     "name": "stdout",
     "output_type": "stream",
     "text": [
      "Enter name or group name:A4\n",
      "Enter message:bhaiya re bhaiya A4 bhaiya bhabhi re bhabhi swarnim bhabhi\n",
      "Enter count:20\n",
      "Enter anything after scan QR coded\n",
      "Success\n"
     ]
    }
   ],
   "source": [
    "from selenium import webdriver\n",
    "\n",
    "driver = webdriver.Chrome()\n",
    "\n",
    "driver.get(\"https://web.whatsapp.com/\")\n",
    "\n",
    "name = input(\"Enter name or group name:\")\n",
    "\n",
    "msg = input(\"Enter message:\")\n",
    "\n",
    "count = int(input(\"Enter count:\"))\n",
    "\n",
    "input(\"Enter anything after scan QR code\")\n",
    "\n",
    "user = driver.find_element_by_xpath(\"//span[@title='{}']\".format(name))\n",
    "\n",
    "user.click()\n",
    "\n",
    "msg_box = driver.find_element_by_xpath(\"//*[@id='main']/footer/div[1]/div[2]/div/div[2]\")\n",
    "\n",
    "for index in range(count):\n",
    "    \n",
    "    msg_box.send_keys(msg)\n",
    "    \n",
    "    driver.find_element_by_xpath(\"//*[@id='main']/footer/div[1]/div[3]/button\").click()\n",
    "\n",
    "print(\"Success\")"
   ]
  },
  {
   "cell_type": "code",
   "execution_count": null,
   "metadata": {},
   "outputs": [],
   "source": []
  }
 ],
 "metadata": {
  "kernelspec": {
   "display_name": "Python 3",
   "language": "python",
   "name": "python3"
  },
  "language_info": {
   "codemirror_mode": {
    "name": "ipython",
    "version": 3
   },
   "file_extension": ".py",
   "mimetype": "text/x-python",
   "name": "python",
   "nbconvert_exporter": "python",
   "pygments_lexer": "ipython3",
   "version": "3.9.0"
  }
 },
 "nbformat": 4,
 "nbformat_minor": 4
}
